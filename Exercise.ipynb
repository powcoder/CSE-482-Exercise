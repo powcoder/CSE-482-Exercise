{
 "cells": [
  {
   "cell_type": "markdown",
   "metadata": {},
   "source": [
    "1.For this exercise, you will be using the same dataset as the one given in Exercise 3"
   ]
  },
  {
   "cell_type": "code",
   "execution_count": null,
   "metadata": {},
   "outputs": [],
   "source": [
    "import pandas as pd\n",
    "import re\n",
    "\n",
    "colnames = ['mpg','cylinders','displacement','horsepower','weight','acceleration','model_year','origin','car_name']\n",
    "\n",
    "def getFields(row):\n",
    "    tmplist = [None if x=='?' else x for x in re.split('\\s+', row)]\n",
    "    fields = pd.Series(tmplist)\n",
    "    return fields\n",
    "\n",
    "tmp = pd.read_csv('auto-mpg.data', sep='\\t', header=None)\n",
    "data = pd.DataFrame(tmp[0].apply(getFields))\n",
    "data.columns = colnames[:-1]\n",
    "data[colnames[-1]] = tmp[1]\n",
    "\n",
    "data.head()"
   ]
  },
  {
   "cell_type": "markdown",
   "metadata": {},
   "source": [
    "Step 1. Drop the car_name column of the DataFrame. Calculate the correlation for all the columns. Note: you should apply astype('float') to convert all the columns to float before calculating their correlation.\n",
    "\n",
    "Solution:"
   ]
  },
  {
   "cell_type": "code",
   "execution_count": null,
   "metadata": {},
   "outputs": [],
   "source": [
    "\n",
    "corr"
   ]
  },
  {
   "cell_type": "markdown",
   "metadata": {},
   "source": [
    "Step 2. Apply principal component analysis to reduce the data to 2 dimensions.\n",
    "\n",
    "Solution:"
   ]
  },
  {
   "cell_type": "code",
   "execution_count": null,
   "metadata": {},
   "outputs": [],
   "source": [
    "from sklearn.decomposition import PCA\n",
    "    \n",
    "pca = PCA(..)\n",
    "\n",
    "\n",
    "projected.head()"
   ]
  },
  {
   "cell_type": "markdown",
   "metadata": {},
   "source": [
    "2. For this question, you need to write a function that takes two series objects as input, one is quantitative-valued while the other is qualitative, and performs entropy-based discretization on the quantitative-valued series. The number of bins needed is also an input parameter of the function. The function should return a series object containing the discretized values. Apply the function to the dataframe object given below."
   ]
  },
  {
   "cell_type": "code",
   "execution_count": null,
   "metadata": {},
   "outputs": [],
   "source": [
    "import pandas as pd\n",
    "\n",
    "values = {'Gender': ['M', 'F', 'M', 'F', 'M', 'F', 'M', 'F', 'M', 'F', 'M', 'F'],\n",
    "          'Risk': [0.43, 0.82, 0.56, 0.24, 0.99, 0.14, 0.72, 0.81, 0.26, 0.11, 0.73, 0.86]}\n",
    "\n",
    "data = pd.DataFrame(values)\n",
    "data"
   ]
  },
  {
   "cell_type": "code",
   "execution_count": null,
   "metadata": {},
   "outputs": [],
   "source": [
    "import numpy as np\n",
    "\n",
    "def calcEntropy(classAttr):"
   ]
  },
  {
   "cell_type": "code",
   "execution_count": null,
   "metadata": {},
   "outputs": [],
   "source": [
    "def discretize(qualAttr, classAttr, numBins):"
   ]
  },
  {
   "cell_type": "code",
   "execution_count": null,
   "metadata": {},
   "outputs": [],
   "source": [
    "data['RiskCategory'] = discretize(data['Risk'],data['Gender'],3)\n",
    "data"
   ]
  }
 ],
 "metadata": {
  "kernelspec": {
   "display_name": "Python 3",
   "language": "python",
   "name": "python3"
  },
  "language_info": {
   "codemirror_mode": {
    "name": "ipython",
    "version": 3
   },
   "file_extension": ".py",
   "mimetype": "text/x-python",
   "name": "python",
   "nbconvert_exporter": "python",
   "pygments_lexer": "ipython3",
   "version": "3.7.5"
  }
 },
 "nbformat": 4,
 "nbformat_minor": 2
}
